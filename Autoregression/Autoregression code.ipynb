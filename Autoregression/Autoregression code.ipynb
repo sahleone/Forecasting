{
 "cells": [
  {
   "cell_type": "markdown",
   "metadata": {},
   "source": [
    "# Autoregression"
   ]
  },
  {
   "cell_type": "code",
   "execution_count": 1,
   "metadata": {},
   "outputs": [],
   "source": [
    "import warnings\n",
    "warnings.filterwarnings(\"ignore\")"
   ]
  },
  {
   "cell_type": "code",
   "execution_count": 2,
   "metadata": {},
   "outputs": [
    {
     "data": {
      "image/png": "[encoded data removed]",
      "text/plain": [
       "<Figure size 432x288 with 1 Axes>"
      ]
     },
     "metadata": {
      "needs_background": "light"
     },
     "output_type": "display_data"
    },
    {
     "name": "stdout",
     "output_type": "stream",
     "text": [
      "ADF Statistic: -4.202944\n",
      "p-value: 0.000651\n"
     ]
    }
   ],
   "source": [
    "import numpy as np\n",
    "import pandas as pd\n",
    "import matplotlib.pyplot as plt\n",
    "from statsmodels.tsa.stattools import adfuller\n",
    "\n",
    "# Generate autoregressive data\n",
    "np.random.seed(0)\n",
    "n_samples = 100\n",
    "a = 0.6\n",
    "x = w = np.random.normal(size=n_samples)\n",
    "\n",
    "for t in range(n_samples):\n",
    "    x[t] = a*x[t-1] + w[t]\n",
    "\n",
    "plt.plot(x)\n",
    "plt.title(\"Autoregressive Data\")\n",
    "plt.show()\n",
    "\n",
    "# Check for stationarity\n",
    "result = adfuller(x)\n",
    "\n",
    "print('ADF Statistic: %f' % result[0])\n",
    "print('p-value: %f' % result[1])"
   ]
  },
  {
   "cell_type": "code",
   "execution_count": 3,
   "metadata": {},
   "outputs": [
    {
     "name": "stdout",
     "output_type": "stream",
     "text": [
      "Best model: AR(6), AIC = 0.03749352317181506\n"
     ]
    }
   ],
   "source": [
    "from statsmodels.tsa.ar_model import AutoReg\n",
    "from itertools import product\n",
    "\n",
    "# Define a range of lag values\n",
    "max_lag = 10\n",
    "lags = range(1, max_lag + 1)\n",
    "\n",
    "# Find the best model (the one with the lowest AIC)\n",
    "best_aic, best_order = np.inf, None\n",
    "\n",
    "for lag in lags:\n",
    "    model = AutoReg(x, lags=lag)\n",
    "    result = model.fit()\n",
    "    if result.aic < best_aic:\n",
    "        best_aic = result.aic\n",
    "        best_order = lag\n",
    "\n",
    "print(f'Best model: AR({best_order}), AIC = {best_aic}')"
   ]
  },
  {
   "cell_type": "code",
   "execution_count": 4,
   "metadata": {},
   "outputs": [
    {
     "name": "stdout",
     "output_type": "stream",
     "text": [
      "                            AutoReg Model Results                             \n",
      "==============================================================================\n",
      "Dep. Variable:                      y   No. Observations:                  100\n",
      "Model:                     AutoReg(6)   Log Likelihood                -127.142\n",
      "Method:               Conditional MLE   S.D. of innovations              0.936\n",
      "Date:                Fri, 15 Mar 2024   AIC                              0.037\n",
      "Time:                        17:57:57   BIC                              0.254\n",
      "Sample:                             6   HQIC                             0.125\n",
      "                                  100                                         \n",
      "==============================================================================\n",
      "                 coef    std err          z      P>|z|      [0.025      0.975]\n",
      "------------------------------------------------------------------------------\n",
      "intercept     -0.0091      0.097     -0.094      0.925      -0.198       0.180\n",
      "y.L1           0.5958      0.101      5.890      0.000       0.398       0.794\n",
      "y.L2           0.1329      0.115      1.157      0.247      -0.092       0.358\n",
      "y.L3          -0.0903      0.116     -0.779      0.436      -0.317       0.137\n",
      "y.L4          -0.0989      0.116     -0.850      0.395      -0.327       0.129\n",
      "y.L5           0.0963      0.116      0.827      0.408      -0.132       0.324\n",
      "y.L6           0.1219      0.098      1.246      0.213      -0.070       0.314\n",
      "                                    Roots                                    \n",
      "=============================================================================\n",
      "                  Real          Imaginary           Modulus         Frequency\n",
      "-----------------------------------------------------------------------------\n",
      "AR.1            1.1382           -0.0000j            1.1382           -0.0000\n",
      "AR.2            0.8294           -0.9754j            1.2803           -0.1378\n",
      "AR.3            0.8294           +0.9754j            1.2803            0.1378\n",
      "AR.4           -0.9059           -1.2871j            1.5740           -0.3476\n",
      "AR.5           -0.9059           +1.2871j            1.5740            0.3476\n",
      "AR.6           -1.7750           -0.0000j            1.7750           -0.5000\n",
      "-----------------------------------------------------------------------------\n"
     ]
    }
   ],
   "source": [
    "# Fit the best model\n",
    "model = AutoReg(x, lags=best_order)\n",
    "result = model.fit()\n",
    "\n",
    "# Print the summary\n",
    "print(result.summary())"
   ]
  },
  {
   "cell_type": "code",
   "execution_count": null,
   "metadata": {},
   "outputs": [],
   "source": []
  }
 ],
 "metadata": {
  "kernelspec": {
   "display_name": "Python 3",
   "language": "python",
   "name": "python3"
  },
  "language_info": {
   "codemirror_mode": {
    "name": "ipython",
    "version": 3
   },
   "file_extension": ".py",
   "mimetype": "text/x-python",
   "name": "python",
   "nbconvert_exporter": "python",
   "pygments_lexer": "ipython3",
   "version": "3.9.5"
  }
 },
 "nbformat": 4,
 "nbformat_minor": 2
}
